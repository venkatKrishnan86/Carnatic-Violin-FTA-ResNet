{
 "cells": [
  {
   "cell_type": "code",
   "execution_count": 10,
   "metadata": {},
   "outputs": [],
   "source": [
    "import sys\n",
    "import os\n",
    "import shutil\n",
    "from scipy.io.wavfile import read, write\n",
    "from pydub import AudioSegment\n",
    "import numpy as np\n",
    "import warnings\n",
    "warnings.filterwarnings(\"ignore\")"
   ]
  },
  {
   "cell_type": "code",
   "execution_count": 3,
   "metadata": {},
   "outputs": [],
   "source": [
    "os.chdir(\"/Users/venkatakrishnanvk/Desktop/Music Technology/Datasets/carnatic\")"
   ]
  },
  {
   "cell_type": "code",
   "execution_count": 4,
   "metadata": {},
   "outputs": [],
   "source": [
    "dest_folder = \"/Users/venkatakrishnanvk/Desktop/Music Technology/Datasets/carnatic/violin_solo_dataset/vocal/\""
   ]
  },
  {
   "attachments": {},
   "cell_type": "markdown",
   "metadata": {},
   "source": [
    "# For copying of all multirack vocals"
   ]
  },
  {
   "cell_type": "code",
   "execution_count": 4,
   "metadata": {},
   "outputs": [],
   "source": [
    "for path in os.scandir(dest_folder):\n",
    "    if os.path.isfile(path.path):\n",
    "        os.remove(path.path)"
   ]
  },
  {
   "cell_type": "code",
   "execution_count": 52,
   "metadata": {},
   "outputs": [],
   "source": [
    "for path, dirs, files in os.walk(os.getcwd()):\n",
    "    for file in files:\n",
    "        if file.endswith(\"multitrack-vocal.mp3\"):\n",
    "            src = path+\"/\"+file\n",
    "            if os.path.exists(dest_folder+file):\n",
    "                continue\n",
    "            shutil.copy(src, dest_folder+file)"
   ]
  },
  {
   "attachments": {},
   "cell_type": "markdown",
   "metadata": {},
   "source": [
    "# Chopping to 10 minute audios"
   ]
  },
  {
   "cell_type": "code",
   "execution_count": 53,
   "metadata": {},
   "outputs": [
    {
     "name": "stdout",
     "output_type": "stream",
     "text": [
      "Tulasi Bilva.multitrack-vocal\n",
      "Shloka Sri Ramachandra Shrita Parijata.multitrack-vocal\n",
      "Sri Guru Na Palitosmi.multitrack-vocal\n",
      "Siva Siva Siva Yenarada.multitrack-vocal\n",
      "Chandrashekharam Sada Bhajeham.multitrack-vocal\n",
      "Prathi Vaaram Vaaram.multitrack-vocal\n",
      "Shankari Shankuru.multitrack-vocal\n",
      "Eppadi Padinaro.multitrack-vocal\n",
      "Chenduril Nindradum Kanda.multitrack-vocal\n",
      "Thamarai Kangal.multitrack-vocal\n",
      "Lokavana Chatura.multitrack-vocal\n",
      "Sarasuda Ninne Kori.multitrack-vocal\n",
      "Thillana Vasanta.multitrack-vocal\n",
      "Velum Mayilume.multitrack-vocal\n",
      "Parvathi Ninnu Neranammiti.multitrack-vocal\n",
      "Etulabrotuva.multitrack-vocal\n",
      "Jaya Jaya Padmanabhanujese.multitrack-vocal\n",
      "Devadi Devanukku Jaya Mangalam.multitrack-vocal\n",
      "Kannanai Paadu Maname.multitrack-vocal\n",
      "Ramabhi Rama Manasu.multitrack-vocal\n",
      "Vinakayunna Della.multitrack-vocal\n",
      "Tillana.multitrack-vocal\n",
      "Shri Guruguhasya.multitrack-vocal\n",
      "Thillana Hameerkalyani.multitrack-vocal\n",
      "Krishna Nee Begane Baaro.multitrack-vocal\n",
      "Hiranmayeem.multitrack-vocal\n",
      "Brochevarevarura.multitrack-vocal\n",
      "Karuna Nidhi Illalo.multitrack-vocal\n",
      "Janakipathe Jaya Karunya Jaladhe.multitrack-vocal\n",
      "Ramakrishnaru Manege.multitrack-vocal\n",
      "Muruga Muruga Muruga.multitrack-vocal\n",
      "Vandu Ketpaar Illayo.multitrack-vocal\n",
      "Gnanamosaga Rada.multitrack-vocal\n",
      "Chakkani Raja.multitrack-vocal\n",
      "Ardhanarishwaram.multitrack-vocal\n",
      "Thappi Bratikipova.multitrack-vocal\n",
      "Seethamma.multitrack-vocal\n",
      "Padavini.multitrack-vocal\n",
      "Enadhu Manam Kavalai.multitrack-vocal\n",
      "Arul Seya Vendum Ayya.multitrack-vocal\n",
      "Entha Muddo.multitrack-vocal\n",
      "Manasaramathi.multitrack-vocal\n",
      "Nannu Brova Neeku.multitrack-vocal\n",
      "Edari Sancharintura.multitrack-vocal\n",
      "Vandalum.multitrack-vocal\n",
      "Sri Jalandara.multitrack-vocal\n",
      "Dharini Telusukonti.multitrack-vocal\n",
      "Munnu Ravana.multitrack-vocal\n",
      "Mangalam Kosalendraya.multitrack-vocal\n",
      "Ghandhamu Poyyaruga.multitrack-vocal\n",
      "Enthavedukonthu Raghava.multitrack-vocal\n",
      "RTP Andholika.multitrack-vocal\n",
      "Sri Dundurge Siva Samsaare.multitrack-vocal\n",
      "Ganamuda Panam.multitrack-vocal\n",
      "Shlokham.multitrack-vocal\n",
      "Gange Maam Pahi.multitrack-vocal\n",
      "Ragam Tanam Pallavi.multitrack-vocal\n",
      "Marugelara.multitrack-vocal\n",
      "Siddhi Vinayakam.multitrack-vocal\n",
      "Nee Sari evvaramma.multitrack-vocal\n",
      "Eppadi Manam Thunindhadho.multitrack-vocal\n",
      "Dorakuna.multitrack-vocal\n",
      "Karuninchutakidi.multitrack-vocal\n",
      "Geetha Vaadya Natana.multitrack-vocal\n",
      "Apparama Bhakti.multitrack-vocal\n",
      "Budham Aashrayami.multitrack-vocal\n",
      "Paraloka Bhaya.multitrack-vocal\n",
      "Shloka.multitrack-vocal\n",
      "Tamburi Mitidava.multitrack-vocal\n",
      "Dudukugala.multitrack-vocal\n",
      "Ninne Bhajana.multitrack-vocal\n",
      "Kannallavo Swami.multitrack-vocal\n",
      "Santhamu leka Sowkyamu ledu.multitrack-vocal\n",
      "Kanukontini.multitrack-vocal\n",
      "Bhavamulona.multitrack-vocal\n",
      "Dinamani Vamsa.multitrack-vocal\n",
      "Sarasamukhi Sakala.multitrack-vocal\n",
      "Kaalaharanamelara.multitrack-vocal\n",
      "Koluvamaregatha.multitrack-vocal\n",
      "Jaya Jaya Janaki Kantha.multitrack-vocal\n",
      "Koti Janmani.multitrack-vocal\n",
      "Athirum Kazhal.multitrack-vocal\n",
      "Jootamu Rare.multitrack-vocal\n",
      "Shloka Namaste Sarvalokaanam.multitrack-vocal\n",
      "Bayarani Bhalite.multitrack-vocal\n",
      "Idhu Thaano Thillai Sthalam.multitrack-vocal\n",
      "Pavamana Suthudu Mangalam.multitrack-vocal\n",
      "Amba Nilambari.multitrack-vocal\n",
      "Rama Daya Judave.multitrack-vocal\n",
      "Sri Kantimatim.multitrack-vocal\n",
      "Shri Kamakshi Shritajana.multitrack-vocal\n",
      "Sami Dayajuda.multitrack-vocal\n",
      "Rama Rama Guna Seema.multitrack-vocal\n",
      "Mati Matiki.multitrack-vocal\n",
      "Chinnanchiru Kiliye.multitrack-vocal\n",
      "Chidambara Natarajam.multitrack-vocal\n",
      "Kailasapathe.multitrack-vocal\n",
      "Thillana Rageshri.multitrack-vocal\n",
      "Gopi Gopala Bala.multitrack-vocal\n",
      "Nera Nammiti.multitrack-vocal\n",
      "Karunajaladhe.multitrack-vocal\n",
      "Va Va Brindavana.multitrack-vocal\n",
      "Paahi Maam Sri.multitrack-vocal\n",
      "Vanajaksha Ninne Kori.multitrack-vocal\n",
      "Paramatmudu.multitrack-vocal\n",
      "Shobillu Saptasvara.multitrack-vocal\n",
      "Sudhaamayee.multitrack-vocal\n",
      "Koluvaiyunnade.multitrack-vocal\n",
      "Merusamana.multitrack-vocal\n",
      "Gam Ganapate.multitrack-vocal\n",
      "Thillana Pahadi.multitrack-vocal\n",
      "Kanakangaka Guha.multitrack-vocal\n",
      "Giriraja Suta.multitrack-vocal\n",
      "Rama Neepai.multitrack-vocal\n",
      "Geeta Nayakan.multitrack-vocal\n",
      "Neene Ballideno.multitrack-vocal\n",
      "Aaniraimekkani.multitrack-vocal\n",
      "Sharanagatha Vatsale.multitrack-vocal\n",
      "Eramuni.multitrack-vocal\n",
      "Sri Vidhya Rajagopala.multitrack-vocal\n",
      "Tolinenu Jesina.multitrack-vocal\n",
      "Brova Barama.multitrack-vocal\n",
      "Shlokam - Shivah Shaktyayukto.multitrack-vocal\n",
      "Thiruveragane Saveri Varnam.multitrack-vocal\n",
      "Janakipathe.multitrack-vocal\n",
      "Ananda Sagara.multitrack-vocal\n",
      "Ninnuvina Marigalada.multitrack-vocal\n",
      "Palisomma Muddu Sarade.multitrack-vocal\n",
      "Parama Pavana Rama.multitrack-vocal\n",
      "Ni Ninaindhal Aagadhadhu.multitrack-vocal\n",
      "Avani Sutha.multitrack-vocal\n",
      "Pavamana Suttudu Pattu.multitrack-vocal\n",
      "Vasudeva Sutam Devam.multitrack-vocal\n",
      "Ardhanareeshwaram.multitrack-vocal\n",
      "Vanajaksha Ninne Nammiti.multitrack-vocal\n",
      "Purahara Nandana.multitrack-vocal\n",
      "Vara Leela Gana Lola.multitrack-vocal\n",
      "Neevada Negana.multitrack-vocal\n",
      "Mangalam Avanisutanatha.multitrack-vocal\n",
      "Pranamamyaham Sri Prananatham.multitrack-vocal\n",
      "Parvathi Ninu Ne Nera Nammithi.multitrack-vocal\n",
      "Varashiki Vahana.multitrack-vocal\n",
      "Thanaithilam Kattrerumai.multitrack-vocal\n",
      "Karuna Ela Gante.multitrack-vocal\n",
      "Paragu Matada.multitrack-vocal\n",
      "Kari Kalabha Mukham.multitrack-vocal\n",
      "Rama Namam Bhajare.multitrack-vocal\n",
      "Thoomani Madatthu.multitrack-vocal\n",
      "Manadirkkugandhadu.multitrack-vocal\n",
      "Karunimpa Idi.multitrack-vocal\n",
      "Pavamana Suthudu Pattu.multitrack-vocal\n",
      "Sundari Nee Divya.multitrack-vocal\n",
      "Bhuvini Dasudane.multitrack-vocal\n",
      "Nenindal Agaadadu undo.multitrack-vocal\n",
      "Sogasuga.multitrack-vocal\n",
      "Telisi Rama.multitrack-vocal\n",
      "Sharanu Janakana.multitrack-vocal\n",
      "Lalitha Lavanga.multitrack-vocal\n",
      "Enta Bhagyamu.multitrack-vocal\n",
      "Nadatanum Anisham.multitrack-vocal\n",
      "Bandadella Barali.multitrack-vocal\n"
     ]
    }
   ],
   "source": [
    "for path in os.scandir(dest_folder):\n",
    "    if os.path.isfile(path.path):\n",
    "        print(path.name[:-4])"
   ]
  },
  {
   "cell_type": "code",
   "execution_count": 54,
   "metadata": {},
   "outputs": [],
   "source": [
    "for path in os.scandir(dest_folder):\n",
    "    if os.path.isfile(path.path):\n",
    "        # fs, audio = read(path.path)\n",
    "        audio_data = AudioSegment.from_file(path.path, \"mp3\")\n",
    "        fs = int(audio_data.frame_rate)\n",
    "        if len(audio_data)/60000 > 10: # 10 minute chunks\n",
    "            pointer = 0\n",
    "            while True:\n",
    "                new_audio = audio_data[pointer*600000:(pointer+1)*600000]\n",
    "                new_audio.export(dest_folder+path.name[:-4]+str(pointer+1)+\".mp3\", format = \"mp3\")\n",
    "                pointer+=1\n",
    "                if len(new_audio) != 600000:\n",
    "                    os.remove(path.path)\n",
    "                    break"
   ]
  },
  {
   "cell_type": "code",
   "execution_count": 36,
   "metadata": {},
   "outputs": [],
   "source": [
    "os.chdir(dest_folder)"
   ]
  },
  {
   "attachments": {},
   "cell_type": "markdown",
   "metadata": {},
   "source": [
    "# Splitting source separated audio into 5 second chunks"
   ]
  },
  {
   "cell_type": "code",
   "execution_count": 5,
   "metadata": {},
   "outputs": [],
   "source": [
    "directory = \"/Users/venkatakrishnanvk/Desktop/Music Technology/Datasets/carnatic/violin_solo_dataset/vocal/vocalists\""
   ]
  },
  {
   "cell_type": "code",
   "execution_count": 6,
   "metadata": {},
   "outputs": [
    {
     "data": {
      "text/plain": [
       "5460"
      ]
     },
     "execution_count": 6,
     "metadata": {},
     "output_type": "execute_result"
    }
   ],
   "source": [
    "count = len(os.listdir(directory)) + 1\n",
    "count"
   ]
  },
  {
   "cell_type": "code",
   "execution_count": 15,
   "metadata": {},
   "outputs": [],
   "source": [
    "count = 581"
   ]
  },
  {
   "cell_type": "code",
   "execution_count": 16,
   "metadata": {},
   "outputs": [],
   "source": [
    "def pydub_to_np(audio: AudioSegment) -> (np.ndarray, int):\n",
    "    \"\"\"\n",
    "    Converts pydub audio segment into np.float32 of shape [duration_in_seconds*sample_rate, channels],\n",
    "    where each value is in range [-1.0, 1.0]. \n",
    "    Returns tuple (audio_np_array, sample_rate).\n",
    "    \"\"\"\n",
    "    return np.array(audio.get_array_of_samples(), dtype=np.float32).reshape((-1, audio.channels)) / (\n",
    "            1 << (8 * audio.sample_width - 1)), audio.frame_rate\n"
   ]
  },
  {
   "cell_type": "code",
   "execution_count": 17,
   "metadata": {},
   "outputs": [],
   "source": [
    "for path, dirs, files in os.walk(dest_folder+\"ss_data\"):\n",
    "    for file in files:\n",
    "        if file == \"vocals.mp3\":\n",
    "            audio_data = AudioSegment.from_file(path+\"/\"+file, \"mp3\")\n",
    "            fs = int(audio_data.frame_rate)\n",
    "            pointer = 0\n",
    "            while True:\n",
    "                new_audio = audio_data[pointer*3000:(pointer+1)*3000] # 5 s of audio\n",
    "                new_audio_np = pydub_to_np(new_audio)[0]\n",
    "                if not np.isnan(np.mean(np.abs(new_audio_np.T[0]))) and np.mean(np.abs(new_audio_np.T[0])) > 0.0001:\n",
    "                    pointer+=1\n",
    "                    write(\"violin_solo_dataset/vocal/vocalists/vocal\"+str(count)+\".wav\", 44100, new_audio_np.T[0])\n",
    "                    # new_audio.export(\"violin_solo_dataset/vocal/vocalists/vocal\"+str(count)+\".wav\", format = \"wav\")\n",
    "                    # sys.exit()\n",
    "                    count+=1\n",
    "                    pointer+=1\n",
    "                else:\n",
    "                    pointer+=1\n",
    "                if len(new_audio)<3000:\n",
    "                    break"
   ]
  },
  {
   "cell_type": "code",
   "execution_count": null,
   "metadata": {},
   "outputs": [],
   "source": []
  }
 ],
 "metadata": {
  "kernelspec": {
   "display_name": "Python 3",
   "language": "python",
   "name": "python3"
  },
  "language_info": {
   "codemirror_mode": {
    "name": "ipython",
    "version": 3
   },
   "file_extension": ".py",
   "mimetype": "text/x-python",
   "name": "python",
   "nbconvert_exporter": "python",
   "pygments_lexer": "ipython3",
   "version": "3.10.6"
  },
  "orig_nbformat": 4
 },
 "nbformat": 4,
 "nbformat_minor": 2
}
