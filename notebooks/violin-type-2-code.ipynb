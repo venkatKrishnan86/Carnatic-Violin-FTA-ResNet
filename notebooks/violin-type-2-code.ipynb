{
 "cells": [
  {
   "cell_type": "code",
   "execution_count": 1,
   "metadata": {},
   "outputs": [],
   "source": [
    "import shutil\n",
    "import os\n",
    "import pandas as pd\n",
    "import audio2numpy as a2n\n",
    "from scipy.io import wavfile\n",
    "from pydub import AudioSegment, effects\n",
    "import numpy as np"
   ]
  },
  {
   "attachments": {},
   "cell_type": "markdown",
   "metadata": {},
   "source": [
    "# Obtaining Sections and Segment Split Points"
   ]
  },
  {
   "cell_type": "code",
   "execution_count": 2,
   "metadata": {},
   "outputs": [],
   "source": [
    "loc = '../saraga/dataset/carnatic/'\n",
    "sections_main = {}\n",
    "sections = {}\n",
    "pallavi_start = {}\n",
    "pallavi_start_main = {}\n",
    "violin_alap_start = {}\n",
    "violin_alap_start_main = {}\n",
    "count = 0\n",
    "sec_present_count = 0"
   ]
  },
  {
   "cell_type": "code",
   "execution_count": 3,
   "metadata": {},
   "outputs": [],
   "source": [
    "for sec_loc in os.scandir(loc):\n",
    "    if sec_loc.is_file():\n",
    "        continue\n",
    "    for filename in os.scandir(sec_loc.path):\n",
    "        if filename.is_file():\n",
    "            continue\n",
    "        for filename2 in os.scandir(filename.path):\n",
    "            if(filename2.path.endswith('sections-manual-p.txt')):\n",
    "                sec_present_count = 1\n",
    "                section_data = pd.read_csv(filename2, sep = '\\t',names=['Start','Number','Time','Section'])\n",
    "                sections.update({filename.name:section_data})\n",
    "\n",
    "                for i in range(len(section_data['Section'])):\n",
    "                    if(section_data['Section'][i]=='Violin ālāp'):\n",
    "                        violin_alap_start.update({filename.name:section_data['Start'][i]})\n",
    "                        count+=1\n",
    "                    elif(section_data['Section'][i]=='Pallavi'):\n",
    "                        pallavi_start.update({filename.name:section_data['Start'][i]})\n",
    "                        count+=1\n",
    "                        break\n",
    "                \n",
    "                if(count != 2):\n",
    "                    pallavi_start.update({filename.name:0})\n",
    "                    violin_alap_start.update({filename.name:0})\n",
    "                count = 0\n",
    "            \n",
    "        if(sec_present_count == 0):\n",
    "            pallavi_start.update({filename.name:0})\n",
    "            violin_alap_start.update({filename.name:0})\n",
    "        sec_present_count = 0\n",
    "    sections_main.update({sec_loc.name:sections})\n",
    "    sections = {}\n",
    "    pallavi_start_main.update({sec_loc.name:pallavi_start})\n",
    "    pallavi_start = {}\n",
    "    violin_alap_start_main.update({sec_loc.name:violin_alap_start})\n",
    "    violin_alap_start = {}"
   ]
  },
  {
   "cell_type": "code",
   "execution_count": 4,
   "metadata": {},
   "outputs": [
    {
     "data": {
      "text/html": [
       "<div>\n",
       "<style scoped>\n",
       "    .dataframe tbody tr th:only-of-type {\n",
       "        vertical-align: middle;\n",
       "    }\n",
       "\n",
       "    .dataframe tbody tr th {\n",
       "        vertical-align: top;\n",
       "    }\n",
       "\n",
       "    .dataframe thead th {\n",
       "        text-align: right;\n",
       "    }\n",
       "</style>\n",
       "<table border=\"1\" class=\"dataframe\">\n",
       "  <thead>\n",
       "    <tr style=\"text-align: right;\">\n",
       "      <th></th>\n",
       "      <th>Start</th>\n",
       "      <th>Number</th>\n",
       "      <th>Time</th>\n",
       "      <th>Section</th>\n",
       "    </tr>\n",
       "  </thead>\n",
       "  <tbody>\n",
       "    <tr>\n",
       "      <th>0</th>\n",
       "      <td>1.363265</td>\n",
       "      <td>1</td>\n",
       "      <td>473.705397</td>\n",
       "      <td>Vocal ālāp</td>\n",
       "    </tr>\n",
       "    <tr>\n",
       "      <th>1</th>\n",
       "      <td>475.068662</td>\n",
       "      <td>1</td>\n",
       "      <td>268.248526</td>\n",
       "      <td>Violin ālāp</td>\n",
       "    </tr>\n",
       "    <tr>\n",
       "      <th>2</th>\n",
       "      <td>743.317188</td>\n",
       "      <td>1</td>\n",
       "      <td>77.543039</td>\n",
       "      <td>Pallavi</td>\n",
       "    </tr>\n",
       "    <tr>\n",
       "      <th>3</th>\n",
       "      <td>820.860227</td>\n",
       "      <td>1</td>\n",
       "      <td>79.191655</td>\n",
       "      <td>Anupallavi</td>\n",
       "    </tr>\n",
       "    <tr>\n",
       "      <th>4</th>\n",
       "      <td>900.051882</td>\n",
       "      <td>1</td>\n",
       "      <td>87.539229</td>\n",
       "      <td>Caraṇam</td>\n",
       "    </tr>\n",
       "    <tr>\n",
       "      <th>5</th>\n",
       "      <td>987.591111</td>\n",
       "      <td>1</td>\n",
       "      <td>325.729524</td>\n",
       "      <td>Nereval</td>\n",
       "    </tr>\n",
       "    <tr>\n",
       "      <th>6</th>\n",
       "      <td>1313.320635</td>\n",
       "      <td>1</td>\n",
       "      <td>295.169161</td>\n",
       "      <td>Kalpanā svara</td>\n",
       "    </tr>\n",
       "  </tbody>\n",
       "</table>\n",
       "</div>"
      ],
      "text/plain": [
       "         Start  Number        Time        Section\n",
       "0     1.363265       1  473.705397     Vocal ālāp\n",
       "1   475.068662       1  268.248526    Violin ālāp\n",
       "2   743.317188       1   77.543039        Pallavi\n",
       "3   820.860227       1   79.191655     Anupallavi\n",
       "4   900.051882       1   87.539229        Caraṇam\n",
       "5   987.591111       1  325.729524        Nereval\n",
       "6  1313.320635       1  295.169161  Kalpanā svara"
      ]
     },
     "execution_count": 4,
     "metadata": {},
     "output_type": "execute_result"
    }
   ],
   "source": [
    "sections_main[\"Akkarai Sisters at Arkay by Akkarai Sisters\"][\"Apparama Bhakti\"]"
   ]
  },
  {
   "cell_type": "code",
   "execution_count": 5,
   "metadata": {},
   "outputs": [
    {
     "data": {
      "text/plain": [
       "743.317188208"
      ]
     },
     "execution_count": 5,
     "metadata": {},
     "output_type": "execute_result"
    }
   ],
   "source": [
    "pallavi_start_main[\"Akkarai Sisters at Arkay by Akkarai Sisters\"][\"Apparama Bhakti\"]"
   ]
  },
  {
   "cell_type": "code",
   "execution_count": 6,
   "metadata": {},
   "outputs": [
    {
     "data": {
      "text/plain": [
       "475.068662131"
      ]
     },
     "execution_count": 6,
     "metadata": {},
     "output_type": "execute_result"
    }
   ],
   "source": [
    "violin_alap_start_main[\"Akkarai Sisters at Arkay by Akkarai Sisters\"][\"Apparama Bhakti\"]"
   ]
  },
  {
   "cell_type": "code",
   "execution_count": 7,
   "metadata": {},
   "outputs": [
    {
     "data": {
      "text/html": [
       "<div>\n",
       "<style scoped>\n",
       "    .dataframe tbody tr th:only-of-type {\n",
       "        vertical-align: middle;\n",
       "    }\n",
       "\n",
       "    .dataframe tbody tr th {\n",
       "        vertical-align: top;\n",
       "    }\n",
       "\n",
       "    .dataframe thead th {\n",
       "        text-align: right;\n",
       "    }\n",
       "</style>\n",
       "<table border=\"1\" class=\"dataframe\">\n",
       "  <thead>\n",
       "    <tr style=\"text-align: right;\">\n",
       "      <th></th>\n",
       "      <th>Start</th>\n",
       "      <th>Number</th>\n",
       "      <th>Time</th>\n",
       "      <th>Section</th>\n",
       "    </tr>\n",
       "  </thead>\n",
       "  <tbody>\n",
       "    <tr>\n",
       "      <th>0</th>\n",
       "      <td>0.092880</td>\n",
       "      <td>1</td>\n",
       "      <td>39.659683</td>\n",
       "      <td>Ślōka</td>\n",
       "    </tr>\n",
       "    <tr>\n",
       "      <th>1</th>\n",
       "      <td>39.752562</td>\n",
       "      <td>1</td>\n",
       "      <td>96.595011</td>\n",
       "      <td>Pallavi</td>\n",
       "    </tr>\n",
       "    <tr>\n",
       "      <th>2</th>\n",
       "      <td>136.347574</td>\n",
       "      <td>1</td>\n",
       "      <td>71.424580</td>\n",
       "      <td>Anupallavi</td>\n",
       "    </tr>\n",
       "    <tr>\n",
       "      <th>3</th>\n",
       "      <td>207.772154</td>\n",
       "      <td>1</td>\n",
       "      <td>137.555011</td>\n",
       "      <td>Muktāyi svara</td>\n",
       "    </tr>\n",
       "    <tr>\n",
       "      <th>4</th>\n",
       "      <td>345.327166</td>\n",
       "      <td>1</td>\n",
       "      <td>22.105397</td>\n",
       "      <td>Caraṇam</td>\n",
       "    </tr>\n",
       "    <tr>\n",
       "      <th>5</th>\n",
       "      <td>367.432562</td>\n",
       "      <td>1</td>\n",
       "      <td>149.661315</td>\n",
       "      <td>Ciṭṭa svara</td>\n",
       "    </tr>\n",
       "  </tbody>\n",
       "</table>\n",
       "</div>"
      ],
      "text/plain": [
       "        Start  Number        Time        Section\n",
       "0    0.092880       1   39.659683          Ślōka\n",
       "1   39.752562       1   96.595011        Pallavi\n",
       "2  136.347574       1   71.424580     Anupallavi\n",
       "3  207.772154       1  137.555011  Muktāyi svara\n",
       "4  345.327166       1   22.105397        Caraṇam\n",
       "5  367.432562       1  149.661315    Ciṭṭa svara"
      ]
     },
     "execution_count": 7,
     "metadata": {},
     "output_type": "execute_result"
    }
   ],
   "source": [
    "sections_main[\"Sumitra Vasudev at Arkay by Sumithra Vasudev\"][\"Vanajaksha Ninne Kori\"]"
   ]
  },
  {
   "cell_type": "code",
   "execution_count": 8,
   "metadata": {},
   "outputs": [
    {
     "data": {
      "text/plain": [
       "0"
      ]
     },
     "execution_count": 8,
     "metadata": {},
     "output_type": "execute_result"
    }
   ],
   "source": [
    "pallavi_start_main[\"Sumitra Vasudev at Arkay by Sumithra Vasudev\"][\"Vanajaksha Ninne Kori\"]"
   ]
  },
  {
   "cell_type": "code",
   "execution_count": 9,
   "metadata": {},
   "outputs": [
    {
     "data": {
      "text/plain": [
       "0"
      ]
     },
     "execution_count": 9,
     "metadata": {},
     "output_type": "execute_result"
    }
   ],
   "source": [
    "violin_alap_start_main[\"Sumitra Vasudev at Arkay by Sumithra Vasudev\"][\"Vanajaksha Ninne Kori\"]"
   ]
  },
  {
   "attachments": {},
   "cell_type": "markdown",
   "metadata": {},
   "source": [
    "Reason: Violin Alap does not exist so 0"
   ]
  },
  {
   "attachments": {},
   "cell_type": "markdown",
   "metadata": {},
   "source": [
    "# Splitting the Audio"
   ]
  },
  {
   "cell_type": "code",
   "execution_count": 10,
   "metadata": {},
   "outputs": [],
   "source": [
    "# new_loc = '/Volumes/T7/Music Dataset/carnatic/'\n",
    "new_loc = '../Datasets/carnatic/' # Write the folder where the carnatic dataset exists\n",
    "new_folder = 'segmented_audio'\n",
    "data_folder = 'violin_solo_dataset'"
   ]
  },
  {
   "cell_type": "code",
   "execution_count": 11,
   "metadata": {},
   "outputs": [],
   "source": [
    "def slug(file):\n",
    "    \"\"\"\n",
    "    Returns slug of file\n",
    "    file: the mp3 file name or path\n",
    "    \"\"\"\n",
    "    count = 0\n",
    "    loc = 0\n",
    "    loc2 = 0\n",
    "    s1 = file[::-1]\n",
    "    for i in s1:\n",
    "        if(i=='.'):\n",
    "            if(count==0):\n",
    "                loc2 = loc\n",
    "            count+=1\n",
    "        if(count == 2):\n",
    "            break\n",
    "        loc+=1\n",
    "    return(s1[loc:loc2:-1])"
   ]
  },
  {
   "cell_type": "code",
   "execution_count": 12,
   "metadata": {},
   "outputs": [
    {
     "name": "stdout",
     "output_type": "stream",
     "text": [
      "../Datasets/carnatic/segmented_audio\n"
     ]
    }
   ],
   "source": [
    "path_1 = os.path.join(new_loc, new_folder)\n",
    "print(path_1)"
   ]
  },
  {
   "attachments": {},
   "cell_type": "markdown",
   "metadata": {},
   "source": [
    "- Loudness normalization adjusts the recording based on perceived loudness. \n",
    "- Normalization differs from dynamic range compression, which applies varying levels of gain over a recording to fit the level within a minimum and maximum range. \n",
    "- Normalization adjusts the gain by a constant value across the entire recording."
   ]
  },
  {
   "cell_type": "code",
   "execution_count": 13,
   "metadata": {},
   "outputs": [],
   "source": [
    "new_path = os.path.join(new_loc, data_folder)\n",
    "if(not(os.path.isdir(new_path))):\n",
    "    os.mkdir(new_path) # Creates Violin_solos directory"
   ]
  },
  {
   "cell_type": "code",
   "execution_count": 16,
   "metadata": {},
   "outputs": [],
   "source": [
    "for concerts in os.scandir(new_loc):\n",
    "    if concerts.is_file():\n",
    "        continue\n",
    "    for songs in os.scandir(concerts.path):\n",
    "        if songs.is_file():\n",
    "            continue\n",
    "        path = os.path.join(songs.path, new_folder)\n",
    "        if(not(os.path.isdir(path))):\n",
    "            os.mkdir(path) #Creates folder segmented_audio in every folder if already not present\n",
    "        for multitracks in os.scandir(songs.path):\n",
    "            # if(multitracks.name.endswith('.mp3') and not(multitracks.name.endswith('.mp3.mp3'))): # For including percussion instruments for segmentation           \n",
    "            if(multitracks.name.endswith('.multitrack-violin.mp3')):\n",
    "                # audio_data, fs = a2n.audio_from_file(multitracks.path)\n",
    "                audio_data = AudioSegment.from_file(multitracks.path, \"mp3\")\n",
    "                slugs = slug(multitracks.name)\n",
    "                fs = int(audio_data.frame_rate)\n",
    "\n",
    "                # cut_point = round(pallavi_start_main[concerts.name][songs.name]*fs)\n",
    "                cut_point1 = violin_alap_start_main[concerts.name][songs.name] * 1000 # ms\n",
    "                cut_point2 = pallavi_start_main[concerts.name][songs.name] * 1000 # ms\n",
    "                if cut_point1 != 0 and cut_point2 != 0:\n",
    "                    violin_solo = audio_data[cut_point1:cut_point2]\n",
    "                    \n",
    "                    # Peak normalizing the sounds\n",
    "                    violin_solo = effects.normalize(violin_solo)\n",
    "\n",
    "                    # wavfile.write(songs.path + '/' + new_folder + '/' + mains + '/' + songs.name + slugs + '-main.wav',fs,main)\n",
    "                    # violin_solo.export(songs.path + '/' + new_folder + '/' + songs.name + slugs + '-violin_solo.wav', format = 'wav')\n",
    "                    # violin_solo.export(new_loc + songs.name + slugs + '-violin_solo.wav', format = 'wav')"
   ]
  },
  {
   "attachments": {},
   "cell_type": "markdown",
   "metadata": {},
   "source": [
    "## To write on the violin_solos dataset"
   ]
  },
  {
   "cell_type": "code",
   "execution_count": 15,
   "metadata": {},
   "outputs": [
    {
     "name": "stdout",
     "output_type": "stream",
     "text": [
      "Concert: V Shankarnarayanan at Arkay by V. Shankaranarayanan\n",
      "Song: Dinamani Vamsa\n",
      "Concert: V Shankarnarayanan at Arkay by V. Shankaranarayanan\n",
      "Song: Chakkani Raja\n",
      "Concert: V Shankarnarayanan at Arkay by V. Shankaranarayanan\n",
      "Song: Ardhanareeshwaram\n",
      "Concert: Akkarai Sisters at Arkay by Akkarai Sisters\n",
      "Song: Apparama Bhakti\n",
      "Concert: Akkarai Sisters at Arkay by Akkarai Sisters\n",
      "Song: Shankari Shankuru\n",
      "Concert: Sumitra Vasudev at Arkay by Sumithra Vasudev\n",
      "Song: Mati Matiki\n",
      "Concert: Sumitra Vasudev at Arkay by Sumithra Vasudev\n",
      "Song: Ramabhi Rama Manasu\n",
      "Concert: Cherthala Ranganatha Sharma at Arkay by Cherthala Ranganatha Sharma\n",
      "Song: Rama Rama Guna Seema\n",
      "Concert: Cherthala Ranganatha Sharma at Arkay by Cherthala Ranganatha Sharma\n",
      "Song: Prathi Vaaram Vaaram\n",
      "Concert: Cherthala Ranganatha Sharma at Arkay by Cherthala Ranganatha Sharma\n",
      "Song: Karuna Nidhi Illalo\n",
      "Concert: Cherthala Ranganatha Sharma at Arkay by Cherthala Ranganatha Sharma\n",
      "Song: Velum Mayilume\n",
      "Concert: KP Nandini at Arkay by KP Nandini\n",
      "Song: Janakipathe Jaya Karunya Jaladhe\n",
      "Concert: KP Nandini at Arkay by KP Nandini\n",
      "Song: Manasaramathi\n"
     ]
    }
   ],
   "source": [
    "data_num = 0\n",
    "for concerts in os.scandir(new_loc):\n",
    "    if concerts.is_file():\n",
    "        continue\n",
    "    for songs in os.scandir(concerts.path):\n",
    "        if songs.is_file():\n",
    "            continue\n",
    "        path = os.path.join(songs.path, new_folder)\n",
    "        if(not(os.path.isdir(path))):\n",
    "            os.mkdir(path) #Creates folder segmented_audio in every folder if already not present\n",
    "        for multitracks in os.scandir(songs.path):\n",
    "            # if(multitracks.name.endswith('.mp3') and not(multitracks.name.endswith('.mp3.mp3'))): # For including percussion instruments for segmentation           \n",
    "            if(multitracks.name.endswith('.multitrack-violin.mp3')):\n",
    "                # audio_data, fs = a2n.audio_from_file(multitracks.path)\n",
    "                audio_data = AudioSegment.from_file(multitracks.path, \"mp3\")\n",
    "                slugs = slug(multitracks.name)\n",
    "                fs = int(audio_data.frame_rate)\n",
    "\n",
    "                # cut_point = round(pallavi_start_main[concerts.name][songs.name]*fs)\n",
    "                cut_point1 = violin_alap_start_main[concerts.name][songs.name] * 1000 # ms\n",
    "                cut_point2 = pallavi_start_main[concerts.name][songs.name] * 1000 # ms\n",
    "                if cut_point1 != 0 and cut_point2 != 0:\n",
    "                    violin_solo = audio_data[cut_point1:cut_point2]\n",
    "                    print(f'Concert: {concerts.name}')\n",
    "                    print(f'Song: {songs.name}')\n",
    "                    \n",
    "                    # Peak normalizing the sounds\n",
    "                    violin_solo = effects.normalize(violin_solo)\n",
    "\n",
    "                    # wavfile.write(songs.path + '/' + new_folder + '/' + mains + '/' + songs.name + slugs + '-main.wav',fs,main)\n",
    "                    # violin_solo.export(songs.path + '/' + new_folder + '/' + songs.name + slugs + '-violin_solo.wav', format = 'wav')\n",
    "                    violin_solo.export(new_loc + data_folder + '/' + 'violin_solo' + str(data_num) + '.wav', format = 'wav')\n",
    "                    data_num+=1"
   ]
  },
  {
   "attachments": {},
   "cell_type": "markdown",
   "metadata": {},
   "source": [
    "Janakipathe: Violin solo start: 825 ms\n",
    "\n",
    "Manasaramathi: Violin solo start: 572 ms"
   ]
  },
  {
   "cell_type": "code",
   "execution_count": 22,
   "metadata": {},
   "outputs": [],
   "source": [
    "# Rewriting the last two\n",
    "last_loc = '../Datasets/carnatic/KP Nandini at Arkay by KP Nandini/'\n",
    "loc1 = 'Janakipathe Jaya Karunya Jaladhe/Janakipathe Jaya Karunya Jaladhe.multitrack-violin.mp3'\n",
    "loc2 = 'Manasaramathi/Manasaramathi.multitrack-violin.mp3'"
   ]
  },
  {
   "cell_type": "code",
   "execution_count": 23,
   "metadata": {},
   "outputs": [
    {
     "data": {
      "text/plain": [
       "'../Datasets/carnatic/KP Nandini at Arkay by KP Nandini/Janakipathe Jaya Karunya Jaladhe/Janakipathe Jaya Karunya Jaladhe.multitrack-violin.mp3'"
      ]
     },
     "execution_count": 23,
     "metadata": {},
     "output_type": "execute_result"
    }
   ],
   "source": [
    "last_loc+loc1"
   ]
  },
  {
   "cell_type": "code",
   "execution_count": 27,
   "metadata": {},
   "outputs": [
    {
     "data": {
      "text/plain": [
       "<_io.BufferedRandom name='../Datasets/carnatic/violin_solo_dataset/violin_solo11.wav'>"
      ]
     },
     "execution_count": 27,
     "metadata": {},
     "output_type": "execute_result"
    }
   ],
   "source": [
    "audio_data = AudioSegment.from_file(last_loc+loc1, \"mp3\")\n",
    "slugs = 'multitrack-violin'\n",
    "fs = 44100\n",
    "cut_point1 = 820 * 1000 # ms\n",
    "cut_point2 = (820+385.151) * 1000 # ms\n",
    "violin_solo = audio_data[cut_point1:cut_point2]\n",
    "\n",
    "# Peak normalizing the sounds\n",
    "violin_solo = effects.normalize(violin_solo)\n",
    "\n",
    "# wavfile.write(songs.path + '/' + new_folder + '/' + mains + '/' + songs.name + slugs + '-main.wav',fs,main)\n",
    "# violin_solo.export(songs.path + '/' + new_folder + '/' + songs.name + slugs + '-violin_solo.wav', format = 'wav')\n",
    "violin_solo.export(new_loc + data_folder + '/' + 'violin_solo' + str(11) + '.wav', format = 'wav')"
   ]
  },
  {
   "cell_type": "code",
   "execution_count": 28,
   "metadata": {},
   "outputs": [
    {
     "data": {
      "text/plain": [
       "<_io.BufferedRandom name='../Datasets/carnatic/violin_solo_dataset/violin_solo12.wav'>"
      ]
     },
     "execution_count": 28,
     "metadata": {},
     "output_type": "execute_result"
    }
   ],
   "source": [
    "audio_data = AudioSegment.from_file(last_loc+loc2, \"mp3\")\n",
    "slugs = 'multitrack-violin'\n",
    "fs = 44100\n",
    "cut_point1 = 570 * 1000 # ms\n",
    "cut_point2 = (570+305) * 1000 # ms\n",
    "violin_solo = audio_data[cut_point1:cut_point2]\n",
    "\n",
    "# Peak normalizing the sounds\n",
    "violin_solo = effects.normalize(violin_solo)\n",
    "\n",
    "# wavfile.write(songs.path + '/' + new_folder + '/' + mains + '/' + songs.name + slugs + '-main.wav',fs,main)\n",
    "# violin_solo.export(songs.path + '/' + new_folder + '/' + songs.name + slugs + '-violin_solo.wav', format = 'wav')\n",
    "violin_solo.export(new_loc + data_folder + '/' + 'violin_solo' + str(12) + '.wav', format = 'wav')"
   ]
  },
  {
   "attachments": {},
   "cell_type": "markdown",
   "metadata": {},
   "source": [
    "# Removing segmented_audio folder"
   ]
  },
  {
   "cell_type": "code",
   "execution_count": 11,
   "metadata": {},
   "outputs": [],
   "source": [
    "# for sec_loc in os.scandir(new_loc):\n",
    "#     if sec_loc.is_file():\n",
    "#         continue\n",
    "#     for song in os.scandir(sec_loc.path):\n",
    "#         if song.is_file():\n",
    "#             continue\n",
    "#         path = os.path.join(song.path, new_folder)\n",
    "#         if(os.path.isdir(path)):\n",
    "#             shutil.rmtree(path) #Creates folder segmented_audio in every folder if already not present"
   ]
  }
 ],
 "metadata": {
  "kernelspec": {
   "display_name": "Python 3",
   "language": "python",
   "name": "python3"
  },
  "language_info": {
   "codemirror_mode": {
    "name": "ipython",
    "version": 3
   },
   "file_extension": ".py",
   "mimetype": "text/x-python",
   "name": "python",
   "nbconvert_exporter": "python",
   "pygments_lexer": "ipython3",
   "version": "3.10.6"
  },
  "orig_nbformat": 4,
  "vscode": {
   "interpreter": {
    "hash": "193f6b5c64d175a70f8bc370a8e28557b54eddf9787b8dde324aa4d68183bc16"
   }
  }
 },
 "nbformat": 4,
 "nbformat_minor": 2
}
